{
 "cells": [
  {
   "cell_type": "code",
   "execution_count": 1,
   "metadata": {},
   "outputs": [],
   "source": [
    "from typing import List\n",
    "import logging\n",
    "import numpy as np\n",
    "import cv2\n",
    "from PIL import Image\n",
    "from mtcnn import MTCNN\n",
    "import insightface\n",
    "import math\n",
    "import pickle\n",
    "import json"
   ]
  },
  {
   "cell_type": "code",
   "execution_count": 2,
   "metadata": {},
   "outputs": [
    {
     "name": "stderr",
     "output_type": "stream",
     "text": [
      "c:\\Users\\gnana\\AppData\\Local\\Programs\\Python\\Python311\\Lib\\site-packages\\onnxruntime\\capi\\onnxruntime_inference_collection.py:69: UserWarning: Specified provider 'CUDAExecutionProvider' is not in available provider names.Available providers: 'AzureExecutionProvider, CPUExecutionProvider'\n",
      "  warnings.warn(\n"
     ]
    },
    {
     "name": "stdout",
     "output_type": "stream",
     "text": [
      "Applied providers: ['CPUExecutionProvider'], with options: {'CPUExecutionProvider': {}}\n",
      "find model: C:\\Users\\gnana/.insightface\\models\\buffalo_l\\1k3d68.onnx landmark_3d_68 ['None', 3, 192, 192] 0.0 1.0\n",
      "Applied providers: ['CPUExecutionProvider'], with options: {'CPUExecutionProvider': {}}\n",
      "find model: C:\\Users\\gnana/.insightface\\models\\buffalo_l\\2d106det.onnx landmark_2d_106 ['None', 3, 192, 192] 0.0 1.0\n",
      "Applied providers: ['CPUExecutionProvider'], with options: {'CPUExecutionProvider': {}}\n",
      "find model: C:\\Users\\gnana/.insightface\\models\\buffalo_l\\det_10g.onnx detection [1, 3, '?', '?'] 127.5 128.0\n",
      "Applied providers: ['CPUExecutionProvider'], with options: {'CPUExecutionProvider': {}}\n",
      "find model: C:\\Users\\gnana/.insightface\\models\\buffalo_l\\genderage.onnx genderage ['None', 3, 96, 96] 0.0 1.0\n",
      "Applied providers: ['CPUExecutionProvider'], with options: {'CPUExecutionProvider': {}}\n",
      "find model: C:\\Users\\gnana/.insightface\\models\\buffalo_l\\w600k_r50.onnx recognition ['None', 3, 112, 112] 127.5 127.5\n",
      "set det-size: (640, 640)\n"
     ]
    }
   ],
   "source": [
    "model = insightface.app.FaceAnalysis(name=\"buffalo_l\")\n",
    "model.prepare(ctx_id=-1)"
   ]
  },
  {
   "cell_type": "code",
   "execution_count": 3,
   "metadata": {},
   "outputs": [],
   "source": [
    "from sklearn.metrics.pairwise import cosine_similarity\n",
    "def compare(address1,address2):\n",
    "    img1 = cv2.imread(address1)\n",
    "    img2 = cv2.imread(address2)\n",
    "    e1 = model.get(img1)[0]['embedding']\n",
    "    e1 = e1/np.linalg.norm(e1)\n",
    "    e2 = model.get(img2)[0]['embedding']\n",
    "    e2 = e2/np.linalg.norm(e2)\n",
    "    return cosine_similarity([e1], [e2])[0][0]"
   ]
  },
  {
   "cell_type": "code",
   "execution_count": 4,
   "metadata": {},
   "outputs": [],
   "source": [
    "def compareEmbedding(e1,e2):\n",
    "    e1 = e1/np.linalg.norm(e1)\n",
    "    e2 = e2/np.linalg.norm(e2)\n",
    "    return cosine_similarity([e1], [e2])[0][0]"
   ]
  },
  {
   "cell_type": "code",
   "execution_count": 5,
   "metadata": {},
   "outputs": [],
   "source": [
    "import os"
   ]
  },
  {
   "cell_type": "code",
   "execution_count": 6,
   "metadata": {},
   "outputs": [],
   "source": [
    "image_path = 'class_image.jpg'\n",
    "output = set()\n",
    "pkl_file_path = \"individual_embeddings.pkl\"\n",
    "with open(pkl_file_path, 'rb') as file:\n",
    "    base_embeddings = pickle.load(file)"
   ]
  },
  {
   "cell_type": "code",
   "execution_count": 7,
   "metadata": {},
   "outputs": [
    {
     "name": "stderr",
     "output_type": "stream",
     "text": [
      "c:\\Users\\gnana\\AppData\\Local\\Programs\\Python\\Python311\\Lib\\site-packages\\insightface\\utils\\transform.py:68: FutureWarning: `rcond` parameter will change to the default of machine precision times ``max(M, N)`` where M and N are the input matrix dimensions.\n",
      "To use the future default and silence this warning we advise to pass `rcond=None`, to keep using the old, explicitly pass `rcond=-1`.\n",
      "  P = np.linalg.lstsq(X_homo, Y)[0].T # Affine matrix. 3 x 4\n"
     ]
    },
    {
     "name": "stdout",
     "output_type": "stream",
     "text": [
      "51\n"
     ]
    }
   ],
   "source": [
    "c=0\n",
    "img = cv2.imread(image_path, cv2.IMREAD_COLOR)\n",
    "if img is not None:\n",
    "        faces = model.get(img)\n",
    "\n",
    "print(len(faces))"
   ]
  },
  {
   "cell_type": "code",
   "execution_count": 8,
   "metadata": {},
   "outputs": [
    {
     "name": "stdout",
     "output_type": "stream",
     "text": [
      "50\n",
      "220001008\n",
      "220001009\n",
      "220001010\n",
      "220001011\n",
      "220001012\n",
      "220001014\n",
      "220001015\n",
      "220001018\n",
      "220001020\n",
      "220001021\n",
      "220001022\n",
      "220001023\n",
      "220001025\n",
      "220001026\n",
      "220001027\n",
      "220001028\n",
      "220001029\n",
      "220001032\n",
      "220001034\n",
      "220001035\n",
      "220001036\n",
      "220001037\n",
      "220001038\n",
      "220001040\n",
      "220001041\n",
      "220001042\n",
      "220001043\n",
      "220001044\n",
      "220001049\n",
      "220001053\n",
      "220001054\n",
      "220001058\n",
      "220001063\n",
      "220001064\n",
      "220001066\n",
      "220001067\n",
      "220001068\n",
      "220001069\n",
      "220001070\n",
      "220001071\n",
      "220001073\n",
      "220001075\n",
      "220001079\n",
      "220001080\n",
      "220001081\n",
      "220001082\n",
      "220002018\n",
      "220002029\n",
      "220002063\n",
      "220002081\n"
     ]
    }
   ],
   "source": [
    "final = []\n",
    "\n",
    "for face in faces:\n",
    "    max_score=0.35\n",
    "    max_roll=0\n",
    "    for roll in base_embeddings:\n",
    "        for e1 in base_embeddings[roll]:\n",
    "            score = compareEmbedding(e1,face['embedding'])\n",
    "            if max_score<score:\n",
    "                max_score = score\n",
    "                max_roll = roll\n",
    "    if(max_roll!=0):\n",
    "        c+=1\n",
    "        final.append(max_roll)\n",
    "\n",
    "\n",
    "final = set(final)\n",
    "# print(type(final))\n",
    "\n",
    "output=set(output)\n",
    "# print(type(output))\n",
    "output = output.union(final)\n",
    "output = list(output)\n",
    "output.sort()\n",
    "\n",
    "print(c)\n",
    "for person in output:\n",
    "  print(person)"
   ]
  },
  {
   "cell_type": "code",
   "execution_count": null,
   "metadata": {},
   "outputs": [],
   "source": []
  }
 ],
 "metadata": {
  "kernelspec": {
   "display_name": "Python 3",
   "language": "python",
   "name": "python3"
  },
  "language_info": {
   "codemirror_mode": {
    "name": "ipython",
    "version": 3
   },
   "file_extension": ".py",
   "mimetype": "text/x-python",
   "name": "python",
   "nbconvert_exporter": "python",
   "pygments_lexer": "ipython3",
   "version": "3.11.3"
  }
 },
 "nbformat": 4,
 "nbformat_minor": 2
}
