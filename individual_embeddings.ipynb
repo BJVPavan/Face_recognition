{
 "cells": [
  {
   "cell_type": "code",
   "execution_count": 40,
   "metadata": {},
   "outputs": [],
   "source": [
    "# As the compressed Zip itself has exceeded the max size limit permitted while uploading in the moodle, we have removed the student_photos folder from the project_code folder, therefore this code gives an error while running. Perhaps, the embeddings already extracted during testing phase are stored already."
   ]
  },
  {
   "cell_type": "code",
   "execution_count": null,
   "metadata": {},
   "outputs": [],
   "source": [
    "from PIL import Image\n",
    "from mtcnn import MTCNN\n",
    "import cv2\n",
    "import numpy as np\n",
    "import insightface\n",
    "import os"
   ]
  },
  {
   "cell_type": "code",
   "execution_count": 41,
   "metadata": {},
   "outputs": [
    {
     "name": "stdout",
     "output_type": "stream",
     "text": [
      "Applied providers: ['CPUExecutionProvider'], with options: {'CPUExecutionProvider': {}}\n",
      "find model: C:\\Users\\gnana/.insightface\\models\\buffalo_l\\1k3d68.onnx landmark_3d_68 ['None', 3, 192, 192] 0.0 1.0\n",
      "Applied providers: ['CPUExecutionProvider'], with options: {'CPUExecutionProvider': {}}\n",
      "find model: C:\\Users\\gnana/.insightface\\models\\buffalo_l\\2d106det.onnx landmark_2d_106 ['None', 3, 192, 192] 0.0 1.0\n",
      "Applied providers: ['CPUExecutionProvider'], with options: {'CPUExecutionProvider': {}}\n",
      "find model: C:\\Users\\gnana/.insightface\\models\\buffalo_l\\det_10g.onnx detection [1, 3, '?', '?'] 127.5 128.0\n",
      "Applied providers: ['CPUExecutionProvider'], with options: {'CPUExecutionProvider': {}}\n",
      "find model: C:\\Users\\gnana/.insightface\\models\\buffalo_l\\genderage.onnx genderage ['None', 3, 96, 96] 0.0 1.0\n",
      "Applied providers: ['CPUExecutionProvider'], with options: {'CPUExecutionProvider': {}}\n",
      "find model: C:\\Users\\gnana/.insightface\\models\\buffalo_l\\w600k_r50.onnx recognition ['None', 3, 112, 112] 127.5 127.5\n",
      "set det-size: (640, 640)\n"
     ]
    }
   ],
   "source": [
    "model = insightface.app.FaceAnalysis(name=\"buffalo_l\")\n",
    "model.prepare(ctx_id=-1)"
   ]
  },
  {
   "cell_type": "code",
   "execution_count": 42,
   "metadata": {},
   "outputs": [
    {
     "name": "stdout",
     "output_type": "stream",
     "text": [
      "1\n",
      "2\n",
      "3\n",
      "4\n",
      "5\n",
      "6\n",
      "7\n",
      "8\n",
      "9\n",
      "10\n",
      "11\n",
      "12\n",
      "13\n",
      "14\n",
      "15\n",
      "16\n",
      "17\n",
      "18\n",
      "19\n",
      "20\n",
      "21\n",
      "22\n",
      "23\n",
      "24\n",
      "25\n",
      "26\n",
      "27\n",
      "28\n",
      "29\n",
      "30\n",
      "31\n",
      "32\n",
      "33\n",
      "34\n",
      "35\n",
      "36\n",
      "37\n",
      "38\n",
      "39\n",
      "40\n",
      "41\n",
      "42\n",
      "43\n",
      "44\n",
      "45\n",
      "46\n",
      "47\n",
      "48\n",
      "49\n",
      "50\n",
      "51\n",
      "52\n",
      "53\n",
      "54\n",
      "55\n",
      "56\n",
      "57\n",
      "58\n",
      "59\n",
      "60\n",
      "61\n",
      "62\n",
      "63\n",
      "64\n",
      "65\n",
      "66\n",
      "67\n",
      "68\n",
      "69\n",
      "70\n",
      "71\n",
      "72\n",
      "73\n",
      "74\n",
      "75\n",
      "76\n",
      "77\n",
      "78\n",
      "79\n",
      "80\n",
      "81\n",
      "82\n",
      "83\n",
      "84\n",
      "85\n"
     ]
    }
   ],
   "source": [
    "individual_embeddings = {}\n",
    "count = 0\n",
    "\n",
    "\n",
    "photo_folder = \"D:\\PROJECTS\\ML_face_recognition\\project_code\\students_photos\"\n",
    "\n",
    "for directory in os.listdir(photo_folder):\n",
    "    embeddings = []\n",
    "    for file in os.path.join(photo_folder):\n",
    "        if file.lower().endswith('.jpg') or file.lower().endswith('.png') or file.lower().endswith('.jpeg'):\n",
    "            try:\n",
    "                img_path = os.path.join(photo_folder, directory, file)\n",
    "                embeddings.append(model.get(cv2.imread(img_path))[0].normed_embedding)\n",
    "            except Exception as e:\n",
    "                print(f\"Error processing {img_path}: {e}\")\n",
    "\n",
    "    count += 1\n",
    "    print(count)\n",
    "    individual_embeddings[directory] = embeddings"
   ]
  },
  {
   "cell_type": "code",
   "execution_count": 45,
   "metadata": {},
   "outputs": [
    {
     "data": {
      "text/plain": [
       "dict_keys(['220001001_Aadish_Jain.jpg', '220001002_Abhinav Gangil.jpg', '220001003_Aditi Wekhande.jpg', '220001004_AdityaKshitiz.jpg', '220001005_Aditya Mastud.jpg', '220001006_Aditya Yadav.jpg', '220001007_Aman Pratap Singh.jpg', '220001008_Amit Tiwari.jpg', '220001009_Anirudh Gautam.jpg', '220001010_Annamshetti Sumanth.jpg', '220001011_Aravapalli Pavan Kumar.jpg', '220001012_Atharva Sangawar.jpg', '220001013_Atharva Nanoti.jpg', '220001014_Aviral Sharma1.jpg', '220001015_Ayitha Tribuvan.jpg', '220001016_Balabhadra Rithvik.jpg', '220001017_Bharat Kaurav.jpg', '220001017_Bharat Kaurav2.jpg', '220001018_Bhavanam Reddy1.jpg', '220001019_Bhukya Havish.jpg', '220001020_Riddhi Umesh.jpg', '220001021_Cherupally Vinay.jpg', '220001022_Chiranjivi Keshav.jpg', '220001023_Darbha Kalyan.jpg', '220001024_Darshil Patel.jpg', '220001025_Debasish Padhy1.jpg', '220001026_Deepak Yadav.jpg', '220001027_Devanshi Chhatbar1.jpg', '220001028_Edula Bhoomika.jpg', '220001029_Garima Upadhyay.jpg', '220001031_Guntuku Rishwanth.jpg', '220001032_Hitesh Maurya.jpg', '220001033_Jay Solanki1.jpg', '220001034_Jonnalagadda Sai.jpg', '220001035_Kalwaghe Pranav.jpg', '220001036_Kambam Sai.jpg', '220001037_Kanak Nagar2.jpg', '220001038_Kapuganty Venkata1.jpg', '220001039_Karan Jalindar.jpg', '220001040_Kodudula Niketh.jpg', '220001041_Koneti Tejaswini.jpg', '220001042_Lalit.jpg', '220001043_Madan P.jpg', '220001044_Mallavarapu Sai.jpg', '220001045_Misha Jain2.jpg', '220001046_Mude Ankitha2.jpg', '220001047_Mude Hema.jpg', '220001048_Muskan.jpg', '220001049_Naren Kumar1.jpg', '220001050_Neerupam.jpg', '220001051_Nikita Sanjay.jpg', '220001052_P C.jpg', '220001053_Panchangam Akhilesh2.jpg', '220001054_Pantham Raja.jpg', '220001055_Pappala Tejaswini.jpg', '220001056_Param Bansal.jpg', '220001057_Parth Sharadrao.jpg', '220001058_Pradeep_Kumar1.jpg', '220001059_Pranjay Chouhan.jpg', '220001060_Pratham Gupta.jpg', '220001061_Prince Kumar.jpg', '220001062_Priyansh Verma.jpg', '220001063_Rishi Bharat.jpg', '220001064_S Ruthvik1.jpg', '220001065_Sai_Sanjana.jpg', '220001066_Saket Meshram.jpg', '220001067_Saket Prashant.jpg', '220001068_Samyak Dhyani.jpg', '220001069_Sanjeet Kumar.jpg', '220001070_Sarthak Brar.jpg', '220001071_Narayan.jpg', '220001073_Shaik Suhana.jpg', '220001074_Shaurya Kshitij.jpg', '220001075_Shivraj Rathore2.jpg', '220001076_Siddhesh Nitin.jpg', '220001077_Vashistha Narayan.jpg', '220001078_Vedant Dinkar.jpg', '220001079_Vijit Balsori.jpg', '220001080_Vineet Verma.jpg', '220001081_Votte Sriyans2.jpg', '220001082_Yannam Yashwanth2.jpg', '220002018_Arnav Nirmal.jpg', '220002029_B.G.V.Shiva.jpg', '220002063_Prasad Akanksha2.jpg', '220002081_Vedant Upadhyay1.jpg'])"
      ]
     },
     "execution_count": 45,
     "metadata": {},
     "output_type": "execute_result"
    }
   ],
   "source": [
    "individual_embeddings\n",
    "individual_embeddings.keys()"
   ]
  },
  {
   "cell_type": "code",
   "execution_count": 44,
   "metadata": {},
   "outputs": [],
   "source": [
    "import pickle"
   ]
  },
  {
   "cell_type": "code",
   "execution_count": 46,
   "metadata": {},
   "outputs": [],
   "source": [
    "pickle_file_path = \"individual_embeddings.pkl\"\n",
    "with open(pickle_file_path,\"wb\") as pickle_file:\n",
    "    pickle.dump(individual_embeddings,pickle_file)"
   ]
  },
  {
   "cell_type": "code",
   "execution_count": 47,
   "metadata": {},
   "outputs": [
    {
     "data": {
      "text/plain": [
       "85"
      ]
     },
     "execution_count": 47,
     "metadata": {},
     "output_type": "execute_result"
    }
   ],
   "source": [
    "len(individual_embeddings)"
   ]
  },
  {
   "cell_type": "code",
   "execution_count": null,
   "metadata": {},
   "outputs": [],
   "source": []
  }
 ],
 "metadata": {
  "kernelspec": {
   "display_name": "Python 3",
   "language": "python",
   "name": "python3"
  },
  "language_info": {
   "codemirror_mode": {
    "name": "ipython",
    "version": 3
   },
   "file_extension": ".py",
   "mimetype": "text/x-python",
   "name": "python",
   "nbconvert_exporter": "python",
   "pygments_lexer": "ipython3",
   "version": "3.11.3"
  }
 },
 "nbformat": 4,
 "nbformat_minor": 2
}
